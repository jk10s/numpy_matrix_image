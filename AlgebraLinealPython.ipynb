{
 "cells": [
  {
   "cell_type": "markdown",
   "id": "2c6d40a6",
   "metadata": {},
   "source": [
    "El álgebra lineal es una rama de las matemáticas que estudia las estructuras algebraicas y sus aplicaciones. En Python, se puede utilizar para resolver una amplia variedad de problemas en una variedad de campos, como ciencia de datos, ingeniería, física y economía. Aquí hay un temario resumido de los conceptos básicos de álgebra lineal que se pueden aprender y aplicar en Python:\n",
    "1.Vectores y operaciones vectoriales: Aprenderás a trabajar con vectores y cómo realizar operaciones como la suma, resta y multiplicación de vectores.\n"
   ]
  },
  {
   "cell_type": "markdown",
   "id": "1bf6d3f4",
   "metadata": {},
   "source": [
    "Un vector es un objeto matemático que se representa como una lista de números, donde cada número representa una componente del vector. En Python, podemos crear vectores utilizando la biblioteca NumPy, que es una biblioteca de cálculo científico popular.\n",
    "\n",
    "Aquí hay un ejemplo de código para crear dos vectores y realizar la suma de ellos:"
   ]
  },
  {
   "cell_type": "code",
   "execution_count": 1,
   "id": "555a03f8",
   "metadata": {},
   "outputs": [
    {
     "name": "stdout",
     "output_type": "stream",
     "text": [
      "[5 7 9]\n"
     ]
    }
   ],
   "source": [
    "import numpy as np\n",
    "\n",
    "vector_a = np.array([1, 2, 3])\n",
    "vector_b = np.array([4, 5, 6])\n",
    "vector_sum = vector_a + vector_b\n",
    "\n",
    "print(vector_sum)"
   ]
  },
  {
   "cell_type": "markdown",
   "id": "10bc7d04",
   "metadata": {},
   "source": [
    "Como puedes ver, la suma de vectores es simplemente la suma componente a componente.\n",
    "\n",
    "Además de la suma, también podemos realizar otras operaciones vectoriales, como la resta y la multiplicación por un escalar. Aquí hay un ejemplo de código para realizar la resta y la multiplicación por un escalar:"
   ]
  },
  {
   "cell_type": "code",
   "execution_count": 2,
   "id": "175270ac",
   "metadata": {},
   "outputs": [
    {
     "name": "stdout",
     "output_type": "stream",
     "text": [
      "[-3 -3 -3]\n",
      "[2 4 6]\n"
     ]
    }
   ],
   "source": [
    "import numpy as np\n",
    "\n",
    "vector_a = np.array([1, 2, 3])\n",
    "vector_b = np.array([4, 5, 6])\n",
    "vector_diff = vector_a - vector_b\n",
    "vector_scaled = 2 * vector_a\n",
    "\n",
    "print(vector_diff)\n",
    "print(vector_scaled)"
   ]
  },
  {
   "cell_type": "markdown",
   "id": "b5ec71f5",
   "metadata": {},
   "source": [
    "Otro concepto importante en álgebra lineal es la multiplicación de vectores, específicamente la multiplicación interna o producto escalar. El producto escalar entre dos vectores es un número que se obtiene sumando el producto de cada componente correspondiente.\n",
    "\n",
    "Aquí hay un ejemplo de código que muestra cómo realizar el producto escalar de dos vectores en Python utilizando NumPy:"
   ]
  },
  {
   "cell_type": "code",
   "execution_count": 3,
   "id": "893916c1",
   "metadata": {},
   "outputs": [
    {
     "name": "stdout",
     "output_type": "stream",
     "text": [
      "32\n"
     ]
    }
   ],
   "source": [
    "import numpy as np\n",
    "\n",
    "vector_a = np.array([1, 2, 3])\n",
    "vector_b = np.array([4, 5, 6])\n",
    "dot_product = np.dot(vector_a, vector_b)\n",
    "\n",
    "print(dot_product)"
   ]
  },
  {
   "cell_type": "markdown",
   "id": "c13b154b",
   "metadata": {},
   "source": [
    "El producto escalar es un número que se utiliza para medir la similitud entre dos vectores. Si dos vectores son paralelos y apuntan en la misma dirección, su producto escalar será un número positivo grande. Por otro lado, si dos vectores son ortogonales y apuntan en direcciones opuestas, su producto escalar será cero.\n",
    "\n",
    "Además del producto escalar, también existe el producto vectorial o producto cruz. Este es un producto entre dos vectores que resulta en un tercer vector perpendicular a los dos vectores originales. En Python, podemos calcular el producto cruz utilizando la función cross de la biblioteca NumPy.\n",
    "\n",
    "Aquí hay un ejemplo de código que muestra cómo realizar el producto cruz de dos vectores en Python:\n",
    "\n",
    "Calcule el segundo componente del producto cruz: vector_a[2] * vector_b[0] - vector_a[0] * vector_b[2] = 3 * 4 - 1 * 6 = 12 - 6 = 6.\n",
    "Calcule el tercer componente del producto cruz: vector_a[0] * vector_b[1] - vector_a[1] * vector_b[0] = 1 * 5 - 2 * 4 = 5 - 8 = -3."
   ]
  },
  {
   "cell_type": "code",
   "execution_count": 4,
   "id": "52d7cd11",
   "metadata": {},
   "outputs": [
    {
     "name": "stdout",
     "output_type": "stream",
     "text": [
      "[-3  6 -3]\n"
     ]
    }
   ],
   "source": [
    "import numpy as np\n",
    "\n",
    "vector_a = np.array([1, 2, 3])\n",
    "vector_b = np.array([4, 5, 6])\n",
    "cross_product = np.cross(vector_a, vector_b)\n",
    "\n",
    "print(cross_product)"
   ]
  },
  {
   "cell_type": "markdown",
   "id": "8cbcbb4d",
   "metadata": {},
   "source": [
    "\n",
    "\n"
   ]
  },
  {
   "cell_type": "markdown",
   "id": "d9bd06cb",
   "metadata": {},
   "source": [
    "2.LA MATRIZ\n",
    " Las matrices son arreglos bidimensionales de números que se utilizan para representar sistemas lineales. Por ejemplo, si tenemos un sistema de dos ecuaciones lineales, podemos representarlo como una matriz:"
   ]
  },
  {
   "cell_type": "markdown",
   "id": "621e701b",
   "metadata": {},
   "source": [
    "1x + 2y = 7\n",
    "3x + 4y = 8\n",
    "La matriz equivalente sería:\n",
    "[[1, 2, 7],\n",
    " [3, 4, 8]]\n"
   ]
  },
  {
   "cell_type": "markdown",
   "id": "e01b2c6b",
   "metadata": {},
   "source": [
    "En Python, podemos utilizar la biblioteca NumPy para crear y manipular matrices. Aquí hay un ejemplo de código que muestra cómo crear una matriz en Python utilizando NumPy:"
   ]
  },
  {
   "cell_type": "code",
   "execution_count": 6,
   "id": "5721fc43",
   "metadata": {},
   "outputs": [
    {
     "name": "stdout",
     "output_type": "stream",
     "text": [
      "[[1 2 7]\n",
      " [3 4 8]]\n"
     ]
    }
   ],
   "source": [
    "import numpy as np\n",
    "\n",
    "matrix = np.array([[1, 2, 7],\n",
    "                   [3, 4, 8]])\n",
    "\n",
    "print(matrix)\n"
   ]
  },
  {
   "cell_type": "markdown",
   "id": "74aad3bb",
   "metadata": {},
   "source": [
    "Además de crear matrices, también podemos realizar operaciones con matrices como la suma, la multiplicación y la inversión. Aquí hay un ejemplo de código que muestra cómo realizar la suma de dos matrices en Python utilizando NumPy:"
   ]
  },
  {
   "cell_type": "code",
   "execution_count": 7,
   "id": "dfeede7b",
   "metadata": {},
   "outputs": [
    {
     "name": "stdout",
     "output_type": "stream",
     "text": [
      "[[ 3  5 11]\n",
      " [ 8 10 15]]\n"
     ]
    }
   ],
   "source": [
    "import numpy as np\n",
    "\n",
    "matrix_a = np.array([[1, 2, 7],\n",
    "                     [3, 4, 8]])\n",
    "matrix_b = np.array([[2, 3, 4],\n",
    "                     [5, 6, 7]])\n",
    "sum_matrix = np.add(matrix_a, matrix_b)\n",
    "\n",
    "print(sum_matrix)"
   ]
  },
  {
   "cell_type": "markdown",
   "id": "dce02c26",
   "metadata": {},
   "source": [
    "Otro concepto importante en álgebra lineal es la multiplicación de matrices. La multiplicación de matrices es una operación que se realiza entre dos matrices y produce una matriz resultante. La regla básica de la multiplicación de matrices es que el número de columnas de la primera matriz debe ser igual al número de filas de la segunda matriz.\n",
    "\n",
    "Aquí hay un ejemplo de código que muestra cómo realizar la multiplicación de dos matrices en Python utilizando NumPy:\n",
    "La multiplicación de matrices se realiza de la siguiente manera:\n",
    "\n",
    "Primero, se multiplica el primer elemento de la primera fila de matrix_a (1) por el primer elemento de la primera columna de matrix_b (2), y se multiplica el segundo elemento de la primera fila de matrix_a (2) por el segundo elemento de la primera columna de matrix_b (4): 1 * 2 + 2 * 4 = 2 + 8 = 10. Este valor se coloca en la primera fila y primera columna de la matriz resultante.\n",
    "Luego, se multiplica el primer elemento de la primera fila de matrix_a (1) por el segundo elemento de la primera columna de matrix_b (3), y se multiplica el segundo elemento de la primera fila de matrix_a (2) por el segundo elemento de la segunda columna de matrix_b (5): 1 * 3 + 2 * 5 = 3 + 10 = 13. Este valor se coloca en la "
   ]
  },
  {
   "cell_type": "code",
   "execution_count": 8,
   "id": "7f363d2e",
   "metadata": {},
   "outputs": [
    {
     "name": "stdout",
     "output_type": "stream",
     "text": [
      "[[10 13]\n",
      " [22 29]]\n"
     ]
    }
   ],
   "source": [
    "import numpy as np\n",
    "\n",
    "matrix_a = np.array([[1, 2],\n",
    "                     [3, 4]])\n",
    "matrix_b = np.array([[2, 3],\n",
    "                     [4, 5]])\n",
    "product_matrix = np.dot(matrix_a, matrix_b)\n",
    "\n",
    "print(product_matrix)\n"
   ]
  },
  {
   "cell_type": "markdown",
   "id": "f4260577",
   "metadata": {},
   "source": [
    "Otro concepto importante en álgebra lineal es la multiplicación de matrices. La multiplicación de matrices es una operación que se realiza entre dos matrices y produce una matriz resultante. La regla básica de la multiplicación de matrices es que el número de columnas de la primera matriz debe ser igual al número de filas de la segunda matriz.\n",
    "\n",
    "Aquí hay un ejemplo de código que muestra cómo realizar la multiplicación de dos matrices en Python utilizando NumPy:"
   ]
  },
  {
   "cell_type": "code",
   "execution_count": 9,
   "id": "ed00e6d9",
   "metadata": {},
   "outputs": [
    {
     "name": "stdout",
     "output_type": "stream",
     "text": [
      "[[10 13]\n",
      " [22 29]]\n"
     ]
    }
   ],
   "source": [
    "import numpy as np\n",
    "\n",
    "matrix_a = np.array([[1, 2],\n",
    "                     [3, 4]])\n",
    "matrix_b = np.array([[2, 3],\n",
    "                     [4, 5]])\n",
    "product_matrix = np.dot(matrix_a, matrix_b)\n",
    "\n",
    "print(product_matrix)\n"
   ]
  },
  {
   "cell_type": "markdown",
   "id": "5fb9954e",
   "metadata": {},
   "source": [
    "Además de la multiplicación de matrices, también es importante conocer la transposición de matrices. La transposición de una matriz consiste en intercambiar sus filas por sus columnas. Aquí hay un ejemplo de código que muestra cómo realizar la transposición de una matriz en Python utilizando NumPy:"
   ]
  },
  {
   "cell_type": "code",
   "execution_count": 10,
   "id": "c3eb29bf",
   "metadata": {},
   "outputs": [
    {
     "name": "stdout",
     "output_type": "stream",
     "text": [
      "[[1 3]\n",
      " [2 4]\n",
      " [7 8]]\n"
     ]
    }
   ],
   "source": [
    "import numpy as np\n",
    "\n",
    "matrix = np.array([[1, 2, 7],\n",
    "                   [3, 4, 8]])\n",
    "transposed_matrix = np.transpose(matrix)\n",
    "\n",
    "print(transposed_matrix)\n"
   ]
  },
  {
   "cell_type": "markdown",
   "id": "b457ad7a",
   "metadata": {},
   "source": [
    "3.Espacio vectorial: Aprenderás acerca de los espacios vectoriales y cómo se utilizan para describir relaciones matemáticas."
   ]
  },
  {
   "cell_type": "markdown",
   "id": "3848ef6e",
   "metadata": {},
   "source": [
    "Un espacio vectorial es un conjunto de vectores que cumplen ciertas propiedades, como la adición y la multiplicación escalar.\n",
    "\n",
    "El concepto de base y dimensión es fundamental en el álgebra lineal. Una base de un espacio vectorial es un conjunto de vectores linearly independientes que pueden combinarse para formar cualquier vector en el espacio vectorial. La dimensión de un espacio vectorial es el número de vectores en su base.\n",
    "\n",
    "Otro concepto importante en álgebra lineal es el producto interno, también conocido como producto escalar. El producto interno entre dos vectores se define como el producto de sus componentes y la suma de estos productos. El producto interno puede utilizarse para medir la similitud entre dos vectores.\n",
    "\n",
    "Aquí hay un ejemplo de código que muestra cómo realizar el producto interno entre dos vectores en Python utilizando NumPy:\n",
    "\n",
    "En este caso, el producto escalar de vector_a y vector_b es 20. Es decir, vector_a y vector_b son vectores en un espacio tridimensional y su producto escalar es igual a la suma de los productos de sus componentes correspondientes: 1 * 2 + 2 * 3 + 3 * 4 = 20."
   ]
  },
  {
   "cell_type": "code",
   "execution_count": 11,
   "id": "880c4449",
   "metadata": {},
   "outputs": [
    {
     "name": "stdout",
     "output_type": "stream",
     "text": [
      "20\n"
     ]
    }
   ],
   "source": [
    "import numpy as np\n",
    "\n",
    "vector_a = np.array([1, 2, 3])\n",
    "vector_b = np.array([2, 3, 4])\n",
    "\n",
    "dot_product = np.dot(vector_a, vector_b)\n",
    "\n",
    "print(dot_product)\n"
   ]
  },
  {
   "cell_type": "markdown",
   "id": "fc80c595",
   "metadata": {},
   "source": [
    "El producto interno también se puede utilizar para calcular la magnitud de un vector, que es la raíz cuadrada de la suma de los cuadrados de sus componentes. Aquí hay un ejemplo de código que muestra cómo calcular la magnitud de un vector en Python utilizando NumPy:\n",
    "\n",
    "Calcular la magnitud del vector mediante la función np.linalg.norm(). Esta función toma como entrada un vector y devuelve su magnitud. La magnitud de un vector en un espacio n-dimensional se define como la raíz cuadrada de la suma de los cuadrados de sus componentes. Por ejemplo, si vector = [a1, a2, a3], la magnitud sería sqrt(a1^2 + a2^2 + a3^2). sqrt de 14"
   ]
  },
  {
   "cell_type": "code",
   "execution_count": 12,
   "id": "f4b7f3c1",
   "metadata": {},
   "outputs": [
    {
     "name": "stdout",
     "output_type": "stream",
     "text": [
      "3.7416573867739413\n"
     ]
    }
   ],
   "source": [
    "import numpy as np\n",
    "\n",
    "vector = np.array([1, 2, 3])\n",
    "\n",
    "magnitude = np.linalg.norm(vector)\n",
    "\n",
    "print(magnitude)\n"
   ]
  },
  {
   "cell_type": "markdown",
   "id": "3874e44f",
   "metadata": {},
   "source": [
    "\n",
    "Un espacio vectorial es una colección de vectores que se pueden sumar y multiplicar por un escalar. Los vectores en un espacio vectorial cumplen ciertas propiedades, como la asociatividad y la conmutatividad de la suma, y la distributividad de la multiplicación escalar con respecto a la suma.\n",
    "\n",
    "En álgebra lineal, es importante tener en cuenta las propiedades de los espacios vectoriales para poder realizar operaciones y resolver problemas.\n",
    "\n",
    "Un ejemplo de un espacio vectorial es el espacio R^n, que es el conjunto de todas las tuplas de n números reales. Cada tupla es un vector en el espacio R^n.\n",
    "\n",
    "Otro ejemplo de un espacio vectorial es el espacio de matrices. Una matriz es un arreglo rectangular de números, y el espacio de matrices es el conjunto de todas las matrices. Las matrices se pueden sumar y multiplicar por un escalar, y cumplen las propiedades de los espacios vectoriales.\n",
    "\n",
    "Aquí hay un ejemplo de código que muestra cómo sumar y multiplicar matrices por un escalar en Python utilizando NumPy:\n",
    "\n",
    "explicacion matrix_sum = [[1 2] + [2 3]\n",
    "                         [3 4] + [4 5]]"
   ]
  },
  {
   "cell_type": "code",
   "execution_count": 13,
   "id": "bcfc6d68",
   "metadata": {},
   "outputs": [
    {
     "name": "stdout",
     "output_type": "stream",
     "text": [
      "[[3 5]\n",
      " [7 9]]\n",
      "[[2 4]\n",
      " [6 8]]\n"
     ]
    }
   ],
   "source": [
    "import numpy as np\n",
    "\n",
    "matrix_a = np.array([[1, 2], [3, 4]])\n",
    "matrix_b = np.array([[2, 3], [4, 5]])\n",
    "\n",
    "matrix_sum = matrix_a + matrix_b\n",
    "#matrix_sum = [[1 2] + [2 3] [3 4] + [4 5]]\n",
    "matrix_scaled = 2 * matrix_a\n",
    "\n",
    "print(matrix_sum)\n",
    "print(matrix_scaled)\n"
   ]
  },
  {
   "cell_type": "markdown",
   "id": "9bbbddae",
   "metadata": {},
   "source": [
    "Además de las operaciones básicas de suma y multiplicación escalar, en álgebra lineal también es importante conocer el concepto de subespacio. Un subespacio es un espacio vectorial dentro de otro espacio vectorial. Por ejemplo, el espacio de las matrices diagonales es un subespacio del espacio de matrices.\n",
    "\n",
    "Para determinar si un conjunto de vectores es un subespacio de un espacio vectorial, deben cumplirse ciertas propiedades, como la certeza de que la suma de dos vectores en el conjunto también está en el conjunto y que cualquier multiplicación escalar de un vector en el conjunto también está en el conjunto.\n",
    "\n",
    "Estos son algunos de los conceptos básicos de los espacios vectoriales en álgebra lineal. Conocer estos conceptos te ayudará a entender y aplicar operaciones y técnicas más avanzadas en álgebra lineal, y te permitirá resolver problemas complejos en una amplia variedad de de áreas, como la ingeniería, la física, la economía y la biología.\n",
    "\n",
    "Además de los espacios vectoriales, también es importante conocer otros conceptos en álgebra lineal, como la notación matricial, los sistemas lineales, las transformaciones lineales, las matrices inversas y las matrices ortogonales.\n",
    "\n",
    "La notación matricial es una forma conveniente de representar y manipular sistemas lineales. Un sistema lineal es un conjunto de ecuaciones lineales que describen una relación matemática entre variables desconocidas.\n",
    "\n",
    "Las transformaciones lineales son funciones que transforman un vector en otro vector en un espacio vectorial. Las transformaciones lineales se pueden representar mediante matrices, y se pueden combinar para crear transformaciones más complejas.\n",
    "\n",
    "Las matrices inversas son matrices que, cuando se multiplican por otra matriz, dan como resultado la matriz identidad. Las matrices inversas son útiles para resolver sistemas lineales y para realizar otras operaciones en álgebra lineal.\n",
    "\n",
    "Las matrices ortogonales son matrices cuya inversa es igual a su traspuesta. Las matrices ortogonales se utilizan en muchas aplicaciones en álgebra lineal, como la rotación de vectores en un espacio tridimensional.\n",
    "\n",
    "Estos son solo algunos de los conceptos básicos de álgebra lineal, y hay muchos otros que se pueden profundizar a medida que avanzas en tu aprendizaje. Pero conocer estos conceptos te dará una base sólida para entender y aplicar álgebra lineal en diferentes contextos.\n",
    "\n",
    "En resumen, para aprender álgebra lineal con Python, es importante conocer los conceptos básicos de vectores y operaciones vectoriales, espacios vectoriales, notación matricial, sistemas lineales, transformaciones lineales, matrices inversas y matrices ortogonales. También es importante tener una buena comprensión de las propiedades de los espacios vectoriales y las operaciones que se pueden realizar con ellos."
   ]
  },
  {
   "cell_type": "markdown",
   "id": "e9b0dc2f",
   "metadata": {},
   "source": [
    "Notación matricial."
   ]
  },
  {
   "cell_type": "markdown",
   "id": "f0065e0a",
   "metadata": {},
   "source": [
    "La notación matricial es una forma de representar y manipular sistemas lineales. Una matriz es simplemente un arreglo rectangular de números o funciones. Las matrices se pueden utilizar para representar transformaciones lineales, y también se pueden utilizar para resolver sistemas lineales.\n",
    "\n",
    "Las operaciones básicas con matrices incluyen la adición, la multiplicación por un escalar y la multiplicación de matrices. La multiplicación de matrices es una operación importante en álgebra lineal, ya que permite combinar transformaciones lineales para crear transformaciones más complejas.\n",
    "\n",
    "En Python, se pueden crear matrices utilizando una biblioteca como NumPy, que proporciona una amplia gama de funciones para trabajar con matrices. Por ejemplo, aquí está cómo crear una matriz en NumPy:"
   ]
  },
  {
   "cell_type": "code",
   "execution_count": 14,
   "id": "e194ae72",
   "metadata": {},
   "outputs": [
    {
     "name": "stdout",
     "output_type": "stream",
     "text": [
      "[[1 2]\n",
      " [3 4]]\n"
     ]
    }
   ],
   "source": [
    "import numpy as np\n",
    "\n",
    "A = np.array([[1, 2], [3, 4]])\n",
    "print(A)\n"
   ]
  },
  {
   "cell_type": "markdown",
   "id": "ddbf012a",
   "metadata": {},
   "source": [
    "Este código crea una matriz de dos filas y dos columnas, y la imprime en la pantalla.\n",
    "\n",
    "Además de las operaciones básicas con matrices, también es importante conocer el concepto de inversa de una matriz y cómo se puede utilizar para resolver sistemas lineales. La inversa de una matriz es otra matriz que, cuando se multiplica por la matriz original, da como resultado la matriz identidad.\n",
    "\n",
    "Aquí está un ejemplo de cómo se puede utilizar la inversa de una matriz para resolver un sistema lineal en Python:"
   ]
  },
  {
   "cell_type": "code",
   "execution_count": 15,
   "id": "81045888",
   "metadata": {},
   "outputs": [
    {
     "name": "stdout",
     "output_type": "stream",
     "text": [
      "[-4.   4.5]\n"
     ]
    }
   ],
   "source": [
    "import numpy as np\n",
    "\n",
    "A = np.array([[1, 2], [3, 4]])\n",
    "b = np.array([5, 6])\n",
    "x = np.linalg.inv(A).dot(b)\n",
    "print(x)\n"
   ]
  },
  {
   "cell_type": "markdown",
   "id": "f86fad2e",
   "metadata": {},
   "source": [
    "Este código crea una matriz A y un vector b, y luego resuelve el sistema lineal Ax = b utilizando la inversa de A y la multiplicación matricial."
   ]
  },
  {
   "cell_type": "markdown",
   "id": "7d242ac6",
   "metadata": {},
   "source": [
    "Diagonalización de matrices.\n",
    "\n"
   ]
  },
  {
   "cell_type": "markdown",
   "id": "33a129c8",
   "metadata": {},
   "source": [
    "a diagonalización de una matriz es un proceso que permite transformar una matriz en una forma diagonal, es decir, una matriz en la que todos los elementos fuera de la diagonal principal son cero.\n",
    "\n",
    "La diagonalización es importante en álgebra lineal porque permite simplificar la forma de una matriz, lo que a su vez permite comprender y analizar sus propiedades y transformaciones. Además, la diagonalización también se utiliza en aplicaciones prácticas como la resolución de sistemas dinámicos y la optimización.\n",
    "\n",
    "Para diagonalizar una matriz, se requiere encontrar una matriz diagonalizadora y una matriz inversa diagonalizadora, que se multiplican por la matriz original para obtener la forma diagonal.\n",
    "\n",
    "En Python, se puede utilizar la biblioteca NumPy para diagonalizar una matriz. Por ejemplo, aquí está cómo se puede diagonalizar una matriz en NumPy:\n",
    "\n",
    "\n",
    "\n"
   ]
  },
  {
   "cell_type": "code",
   "execution_count": 16,
   "id": "42b38c69",
   "metadata": {},
   "outputs": [
    {
     "name": "stdout",
     "output_type": "stream",
     "text": [
      "[-0.37228132  5.37228132]\n",
      "[[-0.82456484 -0.41597356]\n",
      " [ 0.56576746 -0.90937671]]\n"
     ]
    }
   ],
   "source": [
    "import numpy as np\n",
    "\n",
    "A = np.array([[1, 2], [3, 4]])\n",
    "eigenvalues, eigenvectors = np.linalg.eig(A)\n",
    "print(eigenvalues)\n",
    "print(eigenvectors)\n"
   ]
  },
  {
   "cell_type": "markdown",
   "id": "1bc6d23a",
   "metadata": {},
   "source": [
    "Este código utiliza la función eig de NumPy para calcular los valores propios y los vectores propios de la matriz A, que se utilizan para construir la matriz diagonalizadora.\n",
    "\n",
    "Estos son solo algunos de los conceptos básicos de la diagonalización de matrices en álgebra lineal, y hay muchos otros que se pueden profundizar a medida que avanzas en tu aprendizaje. Pero conocer estos conceptos te dará una base sólida para entender y aplicar la diagonalización en diferentes contextos."
   ]
  },
  {
   "cell_type": "markdown",
   "id": "231c7651",
   "metadata": {},
   "source": [
    "Sistemas lineales"
   ]
  },
  {
   "cell_type": "markdown",
   "id": "a8836a62",
   "metadata": {},
   "source": [
    "Un sistema lineal de ecuaciones es un conjunto de ecuaciones lineales con incógnitas. Los sistemas lineales se utilizan en una amplia variedad de aplicaciones, incluyendo la optimización, la modelación económica y la ingeniería.\n",
    "\n",
    "En álgebra lineal, existen diferentes métodos para resolver sistemas lineales, incluyendo el método de eliminación de Gauss, el método de sustitución y el método de matrices. Cada método tiene sus propias ventajas y desventajas, y se pueden utilizar en función de las características de cada sistema específico.\n",
    "\n",
    "En Python, se puede utilizar la biblioteca NumPy para resolver sistemas lineales. Por ejemplo, aquí está cómo se puede resolver un sistema lineal con NumPy:"
   ]
  },
  {
   "cell_type": "code",
   "execution_count": 17,
   "id": "23eaaefc",
   "metadata": {},
   "outputs": [
    {
     "name": "stdout",
     "output_type": "stream",
     "text": [
      "[0.  0.5]\n"
     ]
    }
   ],
   "source": [
    "import numpy as np\n",
    "\n",
    "A = np.array([[1, 2], [3, 4]])\n",
    "b = np.array([1, 2])\n",
    "x = np.linalg.solve(A, b)\n",
    "print(x)\n"
   ]
  },
  {
   "cell_type": "markdown",
   "id": "b147698b",
   "metadata": {},
   "source": [
    "Este código utiliza la función solve de NumPy para resolver el sistema lineal representado por la matriz A y el vector b. La función devuelve una solución x que cumple con las ecuaciones lineales."
   ]
  },
  {
   "cell_type": "markdown",
   "id": "a54b2f3c",
   "metadata": {},
   "source": [
    "La diagonalización es un proceso que permite transformar una matriz en una matriz diagonal, es decir, una matriz en la que todos los elementos fuera de la diagonal principal son cero. La diagonalización es útil porque permite simplificar cálculos y analizar la estructura de la matriz.\n",
    "\n",
    "La reducción a forma canónica es un proceso que permite transformar una matriz en una forma estandarizada que facilita su análisis. Hay diferentes formas canónicas, como la forma escalonada, la forma escalonada reducida y la forma Jordan.\n",
    "\n",
    "En Python, se pueden utilizar las funciones de NumPy para calcular la diagonalización y la reducción a forma canónica. Por ejemplo, aquí está cómo se puede diagonalizar una matriz con NumPy:"
   ]
  },
  {
   "cell_type": "code",
   "execution_count": 18,
   "id": "bcb1f1f0",
   "metadata": {},
   "outputs": [
    {
     "name": "stdout",
     "output_type": "stream",
     "text": [
      "[-0.37228132  5.37228132]\n",
      "[[-0.82456484 -0.41597356]\n",
      " [ 0.56576746 -0.90937671]]\n"
     ]
    }
   ],
   "source": [
    "import numpy as np\n",
    "\n",
    "A = np.array([[1, 2], [3, 4]])\n",
    "eigenvalues, eigenvectors = np.linalg.eig(A)\n",
    "print(eigenvalues)\n",
    "print(eigenvectors)\n"
   ]
  },
  {
   "cell_type": "markdown",
   "id": "1807f390",
   "metadata": {},
   "source": [
    "Este código utiliza la función eig de NumPy para calcular los valores propios y vectores propios de la matriz A. Los valores propios representan la diagonal de la matriz diagonalizada, mientras que los vectores propios representan las columnas de la matriz de transformación."
   ]
  },
  {
   "cell_type": "markdown",
   "id": "090bd26b",
   "metadata": {},
   "source": [
    "matriz inversa"
   ]
  },
  {
   "cell_type": "markdown",
   "id": "aa0503d9",
   "metadata": {},
   "source": [
    "La matriz inversa es una matriz que, cuando se multiplica por la matriz original, produce la matriz identidad. La matriz inversa es útil porque permite resolver sistemas lineales de ecuaciones, es decir, encontrar las incógnitas en un sistema de ecuaciones lineales.\n",
    "\n",
    "En Python, se puede calcular la inversa de una matriz con la función inv de NumPy:"
   ]
  },
  {
   "cell_type": "code",
   "execution_count": 19,
   "id": "adb1e6ad",
   "metadata": {},
   "outputs": [
    {
     "name": "stdout",
     "output_type": "stream",
     "text": [
      "[[-2.   1. ]\n",
      " [ 1.5 -0.5]]\n"
     ]
    }
   ],
   "source": [
    "import numpy as np\n",
    "\n",
    "A = np.array([[1, 2], [3, 4]])\n",
    "A_inv = np.linalg.inv(A)\n",
    "print(A_inv)\n"
   ]
  },
  {
   "cell_type": "markdown",
   "id": "980d3d85",
   "metadata": {},
   "source": [
    "Una vez que se tiene la matriz inversa, se puede utilizar para resolver sistemas de ecuaciones lineales. Por ejemplo, aquí está cómo se puede resolver el siguiente sistema de ecuaciones lineales con la matriz inversa:"
   ]
  },
  {
   "cell_type": "code",
   "execution_count": 20,
   "id": "3206ad4c",
   "metadata": {},
   "outputs": [
    {
     "name": "stdout",
     "output_type": "stream",
     "text": [
      "[-4.   4.5]\n"
     ]
    }
   ],
   "source": [
    "import numpy as np\n",
    "\n",
    "A = np.array([[1, 2], [3, 4]])\n",
    "B = np.array([5, 6])\n",
    "X = np.linalg.inv(A).dot(B)\n",
    "print(X)\n"
   ]
  },
  {
   "cell_type": "markdown",
   "id": "83172440",
   "metadata": {},
   "source": [
    "Este código utiliza la matriz inversa de A para resolver el sistema de ecuaciones lineales AX = B, donde X representa las incógnitas."
   ]
  },
  {
   "cell_type": "markdown",
   "id": "74222827",
   "metadata": {},
   "source": [
    "Diagonalización de matrices y su aplicación en la resolución de sistemas de ecuaciones.\n",
    "\n",
    "La diagonalización de matrices es un proceso mediante el cual se transforma una matriz en una matriz diagonal, es decir, una matriz en la que los elementos fuera de la diagonal principal son cero. La diagonalización es útil porque permite resolver fácilmente sistemas de ecuaciones lineales y, además, permite entender mejor la estructura de la matriz original.\n",
    "\n",
    "En Python, se puede diagonalizar una matriz utilizando la biblioteca NumPy y su función eig:"
   ]
  },
  {
   "cell_type": "code",
   "execution_count": 22,
   "id": "5f603229",
   "metadata": {},
   "outputs": [
    {
     "name": "stdout",
     "output_type": "stream",
     "text": [
      "Eigenvalues: [-0.37228132  5.37228132]\n",
      "Eigenvectors: [[-0.82456484 -0.41597356]\n",
      " [ 0.56576746 -0.90937671]]\n"
     ]
    }
   ],
   "source": [
    "import numpy as np\n",
    "\n",
    "A = np.array([[1, 2], [3, 4]])\n",
    "eigenvalues, eigenvectors = np.linalg.eig(A)\n",
    "print(\"Eigenvalues:\", eigenvalues)\n",
    "print(\"Eigenvectors:\", eigenvectors)\n"
   ]
  },
  {
   "cell_type": "markdown",
   "id": "8fd64e08",
   "metadata": {},
   "source": [
    "La función eig devuelve los autovalores y autovectores de la matriz A, que se pueden utilizar para diagonalizar la matriz.\n",
    "\n",
    "Además, la diagonalización también es útil para resolver sistemas de ecuaciones lineales, ya que permite convertir el sistema de ecuaciones en una forma diagonal, lo que hace más fácil resolver las incógnitas.\n",
    "\n",
    "Estos son solo algunos de los conceptos básicos de la diagonalización de matrices y su aplicación en la resolución de sistemas de ecuaciones, y hay muchos otros que se pueden profundizar a medida que avanzas en tu aprendizaje. Pero conocer estos conceptos te dará una base sólida para entender y aplicar la diagonalización de matrices en diferentes contextos.\n",
    "\n",
    "\n",
    "\n",
    "\n"
   ]
  },
  {
   "cell_type": "markdown",
   "id": "e0e2b37b",
   "metadata": {},
   "source": [
    "reducción de forma canónica de una matriz"
   ]
  },
  {
   "cell_type": "markdown",
   "id": "a50e3457",
   "metadata": {},
   "source": [
    "También conocida como forma normal de Jordan (JNF, por sus siglas en inglés). La JNF es una representación de una matriz en la que los eigenvalores aparecen en la diagonal principal y los eigenvectores están en las subdiagonales inmediatamente debajo de la diagonal principal.\n",
    "\n",
    "La JNF es útil porque permite entender la estructura de una matriz y su relación con los eigenvalores y eigenvectores. Además, la JNF se utiliza a menudo en el análisis de sistemas dinámicos, ya que permite entender cómo se comportan los sistemas a lo largo del tiempo.\n",
    "\n",
    "En Python, se puede calcular la JNF de una matriz utilizando la biblioteca NumPy y su función jordan:"
   ]
  },
  {
   "cell_type": "code",
   "execution_count": null,
   "id": "5f40e130",
   "metadata": {},
   "outputs": [],
   "source": [
    "import numpy as np\n",
    "\n",
    "A = np.array([[1, 2], [3, 4]])\n",
    "jordan_form = np.linalg.jordan(A)\n",
    "print(\"Jordan Form:\", jordan_form)\n"
   ]
  },
  {
   "cell_type": "code",
   "execution_count": 24,
   "id": "b2bdd95e",
   "metadata": {},
   "outputs": [
    {
     "name": "stdout",
     "output_type": "stream",
     "text": [
      "Autovalores: [-0.37228132  5.37228132]\n",
      "Autovectores: [[-0.82456484 -0.41597356]\n",
      " [ 0.56576746 -0.90937671]]\n"
     ]
    }
   ],
   "source": [
    "import numpy as np\n",
    "\n",
    "A = np.array([[1, 2], [3, 4]])\n",
    "\n",
    "eigenvalues, eigenvectors = np.linalg.eig(A)\n",
    "\n",
    "print(\"Autovalores:\", eigenvalues)\n",
    "print(\"Autovectores:\", eigenvectors)\n"
   ]
  },
  {
   "cell_type": "code",
   "execution_count": null,
   "id": "1bdfea5a",
   "metadata": {},
   "outputs": [],
   "source": [
    "    "
   ]
  }
 ],
 "metadata": {
  "kernelspec": {
   "display_name": "Python 3 (ipykernel)",
   "language": "python",
   "name": "python3"
  },
  "language_info": {
   "codemirror_mode": {
    "name": "ipython",
    "version": 3
   },
   "file_extension": ".py",
   "mimetype": "text/x-python",
   "name": "python",
   "nbconvert_exporter": "python",
   "pygments_lexer": "ipython3",
   "version": "3.9.12"
  }
 },
 "nbformat": 4,
 "nbformat_minor": 5
}
